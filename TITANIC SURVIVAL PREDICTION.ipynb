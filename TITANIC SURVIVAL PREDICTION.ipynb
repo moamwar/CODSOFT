{
 "cells": [
  {
   "cell_type": "code",
   "execution_count": 278,
   "id": "0fc894a6",
   "metadata": {},
   "outputs": [],
   "source": [
    "import numpy as np\n",
    "import pandas as pd \n",
    "import seaborn as sns \n",
    "import matplotlib.pyplot as plt\n",
    "from sklearn.model_selection import train_test_split\n",
    "from sklearn.linear_model import LogisticRegression\n",
    "from sklearn.metrics import classification_report, confusion_matrix,accuracy_score,roc_curve\n",
    "import warnings\n",
    "#ignoring the wrangings\n",
    "warnings.filterwarnings('ignore')"
   ]
  },
  {
   "cell_type": "code",
   "execution_count": 279,
   "id": "e807de0a",
   "metadata": {},
   "outputs": [],
   "source": [
    "data=pd.read_csv(r\"C:\\Users\\mohamed\\Downloads\\data\\tested.csv\")"
   ]
  },
  {
   "cell_type": "code",
   "execution_count": 280,
   "id": "c3971625",
   "metadata": {},
   "outputs": [
    {
     "data": {
      "text/html": [
       "<div>\n",
       "<style scoped>\n",
       "    .dataframe tbody tr th:only-of-type {\n",
       "        vertical-align: middle;\n",
       "    }\n",
       "\n",
       "    .dataframe tbody tr th {\n",
       "        vertical-align: top;\n",
       "    }\n",
       "\n",
       "    .dataframe thead th {\n",
       "        text-align: right;\n",
       "    }\n",
       "</style>\n",
       "<table border=\"1\" class=\"dataframe\">\n",
       "  <thead>\n",
       "    <tr style=\"text-align: right;\">\n",
       "      <th></th>\n",
       "      <th>PassengerId</th>\n",
       "      <th>Survived</th>\n",
       "      <th>Pclass</th>\n",
       "      <th>Name</th>\n",
       "      <th>Sex</th>\n",
       "      <th>Age</th>\n",
       "      <th>SibSp</th>\n",
       "      <th>Parch</th>\n",
       "      <th>Ticket</th>\n",
       "      <th>Fare</th>\n",
       "      <th>Cabin</th>\n",
       "      <th>Embarked</th>\n",
       "    </tr>\n",
       "  </thead>\n",
       "  <tbody>\n",
       "    <tr>\n",
       "      <th>0</th>\n",
       "      <td>892</td>\n",
       "      <td>0</td>\n",
       "      <td>3</td>\n",
       "      <td>Kelly, Mr. James</td>\n",
       "      <td>male</td>\n",
       "      <td>34.5</td>\n",
       "      <td>0</td>\n",
       "      <td>0</td>\n",
       "      <td>330911</td>\n",
       "      <td>7.8292</td>\n",
       "      <td>NaN</td>\n",
       "      <td>Q</td>\n",
       "    </tr>\n",
       "    <tr>\n",
       "      <th>1</th>\n",
       "      <td>893</td>\n",
       "      <td>1</td>\n",
       "      <td>3</td>\n",
       "      <td>Wilkes, Mrs. James (Ellen Needs)</td>\n",
       "      <td>female</td>\n",
       "      <td>47.0</td>\n",
       "      <td>1</td>\n",
       "      <td>0</td>\n",
       "      <td>363272</td>\n",
       "      <td>7.0000</td>\n",
       "      <td>NaN</td>\n",
       "      <td>S</td>\n",
       "    </tr>\n",
       "    <tr>\n",
       "      <th>2</th>\n",
       "      <td>894</td>\n",
       "      <td>0</td>\n",
       "      <td>2</td>\n",
       "      <td>Myles, Mr. Thomas Francis</td>\n",
       "      <td>male</td>\n",
       "      <td>62.0</td>\n",
       "      <td>0</td>\n",
       "      <td>0</td>\n",
       "      <td>240276</td>\n",
       "      <td>9.6875</td>\n",
       "      <td>NaN</td>\n",
       "      <td>Q</td>\n",
       "    </tr>\n",
       "    <tr>\n",
       "      <th>3</th>\n",
       "      <td>895</td>\n",
       "      <td>0</td>\n",
       "      <td>3</td>\n",
       "      <td>Wirz, Mr. Albert</td>\n",
       "      <td>male</td>\n",
       "      <td>27.0</td>\n",
       "      <td>0</td>\n",
       "      <td>0</td>\n",
       "      <td>315154</td>\n",
       "      <td>8.6625</td>\n",
       "      <td>NaN</td>\n",
       "      <td>S</td>\n",
       "    </tr>\n",
       "    <tr>\n",
       "      <th>4</th>\n",
       "      <td>896</td>\n",
       "      <td>1</td>\n",
       "      <td>3</td>\n",
       "      <td>Hirvonen, Mrs. Alexander (Helga E Lindqvist)</td>\n",
       "      <td>female</td>\n",
       "      <td>22.0</td>\n",
       "      <td>1</td>\n",
       "      <td>1</td>\n",
       "      <td>3101298</td>\n",
       "      <td>12.2875</td>\n",
       "      <td>NaN</td>\n",
       "      <td>S</td>\n",
       "    </tr>\n",
       "  </tbody>\n",
       "</table>\n",
       "</div>"
      ],
      "text/plain": [
       "   PassengerId  Survived  Pclass  \\\n",
       "0          892         0       3   \n",
       "1          893         1       3   \n",
       "2          894         0       2   \n",
       "3          895         0       3   \n",
       "4          896         1       3   \n",
       "\n",
       "                                           Name     Sex   Age  SibSp  Parch  \\\n",
       "0                              Kelly, Mr. James    male  34.5      0      0   \n",
       "1              Wilkes, Mrs. James (Ellen Needs)  female  47.0      1      0   \n",
       "2                     Myles, Mr. Thomas Francis    male  62.0      0      0   \n",
       "3                              Wirz, Mr. Albert    male  27.0      0      0   \n",
       "4  Hirvonen, Mrs. Alexander (Helga E Lindqvist)  female  22.0      1      1   \n",
       "\n",
       "    Ticket     Fare Cabin Embarked  \n",
       "0   330911   7.8292   NaN        Q  \n",
       "1   363272   7.0000   NaN        S  \n",
       "2   240276   9.6875   NaN        Q  \n",
       "3   315154   8.6625   NaN        S  \n",
       "4  3101298  12.2875   NaN        S  "
      ]
     },
     "execution_count": 280,
     "metadata": {},
     "output_type": "execute_result"
    }
   ],
   "source": [
    "data.head()"
   ]
  },
  {
   "cell_type": "code",
   "execution_count": 281,
   "id": "a5cd3296",
   "metadata": {},
   "outputs": [
    {
     "data": {
      "text/plain": [
       "(418, 12)"
      ]
     },
     "execution_count": 281,
     "metadata": {},
     "output_type": "execute_result"
    }
   ],
   "source": [
    "data.shape"
   ]
  },
  {
   "cell_type": "markdown",
   "id": "e90f7a96",
   "metadata": {},
   "source": [
    "# Data cleaning"
   ]
  },
  {
   "cell_type": "code",
   "execution_count": 282,
   "id": "2fd7c9e0",
   "metadata": {},
   "outputs": [
    {
     "name": "stdout",
     "output_type": "stream",
     "text": [
      "<class 'pandas.core.frame.DataFrame'>\n",
      "RangeIndex: 418 entries, 0 to 417\n",
      "Data columns (total 12 columns):\n",
      " #   Column       Non-Null Count  Dtype  \n",
      "---  ------       --------------  -----  \n",
      " 0   PassengerId  418 non-null    int64  \n",
      " 1   Survived     418 non-null    int64  \n",
      " 2   Pclass       418 non-null    int64  \n",
      " 3   Name         418 non-null    object \n",
      " 4   Sex          418 non-null    object \n",
      " 5   Age          332 non-null    float64\n",
      " 6   SibSp        418 non-null    int64  \n",
      " 7   Parch        418 non-null    int64  \n",
      " 8   Ticket       418 non-null    object \n",
      " 9   Fare         417 non-null    float64\n",
      " 10  Cabin        91 non-null     object \n",
      " 11  Embarked     418 non-null    object \n",
      "dtypes: float64(2), int64(5), object(5)\n",
      "memory usage: 39.3+ KB\n"
     ]
    }
   ],
   "source": [
    "data.info()"
   ]
  },
  {
   "cell_type": "code",
   "execution_count": 283,
   "id": "f9294f45",
   "metadata": {},
   "outputs": [],
   "source": [
    "data=data.rename(columns={'SibSp':'Siblings_Spouses','Parch':'Parents_Childrens'})"
   ]
  },
  {
   "cell_type": "code",
   "execution_count": 284,
   "id": "d7cdeba1",
   "metadata": {},
   "outputs": [
    {
     "data": {
      "text/plain": [
       "PassengerId            0\n",
       "Survived               0\n",
       "Pclass                 0\n",
       "Name                   0\n",
       "Sex                    0\n",
       "Age                   86\n",
       "Siblings_Spouses       0\n",
       "Parents_Childrens      0\n",
       "Ticket                 0\n",
       "Fare                   1\n",
       "Cabin                327\n",
       "Embarked               0\n",
       "dtype: int64"
      ]
     },
     "execution_count": 284,
     "metadata": {},
     "output_type": "execute_result"
    }
   ],
   "source": [
    "data.isna().sum()"
   ]
  },
  {
   "cell_type": "code",
   "execution_count": 285,
   "id": "f534e4c1",
   "metadata": {},
   "outputs": [],
   "source": [
    "data=data.drop(columns='Cabin')"
   ]
  },
  {
   "cell_type": "code",
   "execution_count": 286,
   "id": "d0c161c0",
   "metadata": {},
   "outputs": [
    {
     "data": {
      "text/plain": [
       "0"
      ]
     },
     "execution_count": 286,
     "metadata": {},
     "output_type": "execute_result"
    }
   ],
   "source": [
    "data['Age']=data['Age'].fillna(data['Age'].median())\n",
    "data['Age'].isna().sum()"
   ]
  },
  {
   "cell_type": "code",
   "execution_count": 287,
   "id": "698d0ef0",
   "metadata": {},
   "outputs": [],
   "source": [
    "data['Age']=data['Age'].astype('int')\n",
    "data['Age'].dtypes\n",
    "if data['Age'].any()==0:\n",
    "    data['Age']+=1"
   ]
  },
  {
   "cell_type": "code",
   "execution_count": 288,
   "id": "033ebb65",
   "metadata": {},
   "outputs": [],
   "source": [
    "data.dropna(subset=['Fare'],inplace=True)"
   ]
  },
  {
   "cell_type": "code",
   "execution_count": 289,
   "id": "cce9de11",
   "metadata": {},
   "outputs": [
    {
     "data": {
      "text/plain": [
       "PassengerId          0\n",
       "Survived             0\n",
       "Pclass               0\n",
       "Name                 0\n",
       "Sex                  0\n",
       "Age                  0\n",
       "Siblings_Spouses     0\n",
       "Parents_Childrens    0\n",
       "Ticket               0\n",
       "Fare                 0\n",
       "Embarked             0\n",
       "dtype: int64"
      ]
     },
     "execution_count": 289,
     "metadata": {},
     "output_type": "execute_result"
    }
   ],
   "source": [
    "data.isna().sum()"
   ]
  },
  {
   "cell_type": "code",
   "execution_count": 290,
   "id": "0181b6f6",
   "metadata": {},
   "outputs": [
    {
     "data": {
      "text/html": [
       "<div>\n",
       "<style scoped>\n",
       "    .dataframe tbody tr th:only-of-type {\n",
       "        vertical-align: middle;\n",
       "    }\n",
       "\n",
       "    .dataframe tbody tr th {\n",
       "        vertical-align: top;\n",
       "    }\n",
       "\n",
       "    .dataframe thead th {\n",
       "        text-align: right;\n",
       "    }\n",
       "</style>\n",
       "<table border=\"1\" class=\"dataframe\">\n",
       "  <thead>\n",
       "    <tr style=\"text-align: right;\">\n",
       "      <th></th>\n",
       "      <th>PassengerId</th>\n",
       "      <th>Survived</th>\n",
       "      <th>Pclass</th>\n",
       "      <th>Name</th>\n",
       "      <th>Sex</th>\n",
       "      <th>Age</th>\n",
       "      <th>Siblings_Spouses</th>\n",
       "      <th>Parents_Childrens</th>\n",
       "      <th>Ticket</th>\n",
       "      <th>Fare</th>\n",
       "      <th>Embarked</th>\n",
       "    </tr>\n",
       "  </thead>\n",
       "  <tbody>\n",
       "    <tr>\n",
       "      <th>413</th>\n",
       "      <td>1305</td>\n",
       "      <td>0</td>\n",
       "      <td>3</td>\n",
       "      <td>Spector, Mr. Woolf</td>\n",
       "      <td>male</td>\n",
       "      <td>27</td>\n",
       "      <td>0</td>\n",
       "      <td>0</td>\n",
       "      <td>A.5. 3236</td>\n",
       "      <td>8.0500</td>\n",
       "      <td>S</td>\n",
       "    </tr>\n",
       "    <tr>\n",
       "      <th>414</th>\n",
       "      <td>1306</td>\n",
       "      <td>1</td>\n",
       "      <td>1</td>\n",
       "      <td>Oliva y Ocana, Dona. Fermina</td>\n",
       "      <td>female</td>\n",
       "      <td>39</td>\n",
       "      <td>0</td>\n",
       "      <td>0</td>\n",
       "      <td>PC 17758</td>\n",
       "      <td>108.9000</td>\n",
       "      <td>C</td>\n",
       "    </tr>\n",
       "    <tr>\n",
       "      <th>415</th>\n",
       "      <td>1307</td>\n",
       "      <td>0</td>\n",
       "      <td>3</td>\n",
       "      <td>Saether, Mr. Simon Sivertsen</td>\n",
       "      <td>male</td>\n",
       "      <td>38</td>\n",
       "      <td>0</td>\n",
       "      <td>0</td>\n",
       "      <td>SOTON/O.Q. 3101262</td>\n",
       "      <td>7.2500</td>\n",
       "      <td>S</td>\n",
       "    </tr>\n",
       "    <tr>\n",
       "      <th>416</th>\n",
       "      <td>1308</td>\n",
       "      <td>0</td>\n",
       "      <td>3</td>\n",
       "      <td>Ware, Mr. Frederick</td>\n",
       "      <td>male</td>\n",
       "      <td>27</td>\n",
       "      <td>0</td>\n",
       "      <td>0</td>\n",
       "      <td>359309</td>\n",
       "      <td>8.0500</td>\n",
       "      <td>S</td>\n",
       "    </tr>\n",
       "    <tr>\n",
       "      <th>417</th>\n",
       "      <td>1309</td>\n",
       "      <td>0</td>\n",
       "      <td>3</td>\n",
       "      <td>Peter, Master. Michael J</td>\n",
       "      <td>male</td>\n",
       "      <td>27</td>\n",
       "      <td>1</td>\n",
       "      <td>1</td>\n",
       "      <td>2668</td>\n",
       "      <td>22.3583</td>\n",
       "      <td>C</td>\n",
       "    </tr>\n",
       "  </tbody>\n",
       "</table>\n",
       "</div>"
      ],
      "text/plain": [
       "     PassengerId  Survived  Pclass                          Name     Sex  Age  \\\n",
       "413         1305         0       3            Spector, Mr. Woolf    male   27   \n",
       "414         1306         1       1  Oliva y Ocana, Dona. Fermina  female   39   \n",
       "415         1307         0       3  Saether, Mr. Simon Sivertsen    male   38   \n",
       "416         1308         0       3           Ware, Mr. Frederick    male   27   \n",
       "417         1309         0       3      Peter, Master. Michael J    male   27   \n",
       "\n",
       "     Siblings_Spouses  Parents_Childrens              Ticket      Fare  \\\n",
       "413                 0                  0           A.5. 3236    8.0500   \n",
       "414                 0                  0            PC 17758  108.9000   \n",
       "415                 0                  0  SOTON/O.Q. 3101262    7.2500   \n",
       "416                 0                  0              359309    8.0500   \n",
       "417                 1                  1                2668   22.3583   \n",
       "\n",
       "    Embarked  \n",
       "413        S  \n",
       "414        C  \n",
       "415        S  \n",
       "416        S  \n",
       "417        C  "
      ]
     },
     "execution_count": 290,
     "metadata": {},
     "output_type": "execute_result"
    }
   ],
   "source": [
    "data.tail() "
   ]
  },
  {
   "cell_type": "markdown",
   "id": "47d8311e",
   "metadata": {},
   "source": [
    "# Exploratory data analysis"
   ]
  },
  {
   "cell_type": "code",
   "execution_count": 291,
   "id": "e2d1bc3f",
   "metadata": {},
   "outputs": [
    {
     "data": {
      "text/html": [
       "<div>\n",
       "<style scoped>\n",
       "    .dataframe tbody tr th:only-of-type {\n",
       "        vertical-align: middle;\n",
       "    }\n",
       "\n",
       "    .dataframe tbody tr th {\n",
       "        vertical-align: top;\n",
       "    }\n",
       "\n",
       "    .dataframe thead th {\n",
       "        text-align: right;\n",
       "    }\n",
       "</style>\n",
       "<table border=\"1\" class=\"dataframe\">\n",
       "  <thead>\n",
       "    <tr style=\"text-align: right;\">\n",
       "      <th></th>\n",
       "      <th>PassengerId</th>\n",
       "      <th>Survived</th>\n",
       "      <th>Pclass</th>\n",
       "      <th>Name</th>\n",
       "      <th>Sex</th>\n",
       "      <th>Age</th>\n",
       "      <th>Siblings_Spouses</th>\n",
       "      <th>Parents_Childrens</th>\n",
       "      <th>Ticket</th>\n",
       "      <th>Fare</th>\n",
       "      <th>Embarked</th>\n",
       "    </tr>\n",
       "  </thead>\n",
       "  <tbody>\n",
       "    <tr>\n",
       "      <th>count</th>\n",
       "      <td>417.000000</td>\n",
       "      <td>417.000000</td>\n",
       "      <td>417.000000</td>\n",
       "      <td>417</td>\n",
       "      <td>417</td>\n",
       "      <td>417.000000</td>\n",
       "      <td>417.000000</td>\n",
       "      <td>417.000000</td>\n",
       "      <td>417</td>\n",
       "      <td>417.000000</td>\n",
       "      <td>417</td>\n",
       "    </tr>\n",
       "    <tr>\n",
       "      <th>unique</th>\n",
       "      <td>NaN</td>\n",
       "      <td>NaN</td>\n",
       "      <td>NaN</td>\n",
       "      <td>417</td>\n",
       "      <td>2</td>\n",
       "      <td>NaN</td>\n",
       "      <td>NaN</td>\n",
       "      <td>NaN</td>\n",
       "      <td>362</td>\n",
       "      <td>NaN</td>\n",
       "      <td>3</td>\n",
       "    </tr>\n",
       "    <tr>\n",
       "      <th>top</th>\n",
       "      <td>NaN</td>\n",
       "      <td>NaN</td>\n",
       "      <td>NaN</td>\n",
       "      <td>Kelly, Mr. James</td>\n",
       "      <td>male</td>\n",
       "      <td>NaN</td>\n",
       "      <td>NaN</td>\n",
       "      <td>NaN</td>\n",
       "      <td>PC 17608</td>\n",
       "      <td>NaN</td>\n",
       "      <td>S</td>\n",
       "    </tr>\n",
       "    <tr>\n",
       "      <th>freq</th>\n",
       "      <td>NaN</td>\n",
       "      <td>NaN</td>\n",
       "      <td>NaN</td>\n",
       "      <td>1</td>\n",
       "      <td>265</td>\n",
       "      <td>NaN</td>\n",
       "      <td>NaN</td>\n",
       "      <td>NaN</td>\n",
       "      <td>5</td>\n",
       "      <td>NaN</td>\n",
       "      <td>269</td>\n",
       "    </tr>\n",
       "    <tr>\n",
       "      <th>mean</th>\n",
       "      <td>1100.635492</td>\n",
       "      <td>0.364508</td>\n",
       "      <td>2.263789</td>\n",
       "      <td>NaN</td>\n",
       "      <td>NaN</td>\n",
       "      <td>29.501199</td>\n",
       "      <td>0.448441</td>\n",
       "      <td>0.393285</td>\n",
       "      <td>NaN</td>\n",
       "      <td>35.627188</td>\n",
       "      <td>NaN</td>\n",
       "    </tr>\n",
       "    <tr>\n",
       "      <th>std</th>\n",
       "      <td>120.923774</td>\n",
       "      <td>0.481870</td>\n",
       "      <td>0.842077</td>\n",
       "      <td>NaN</td>\n",
       "      <td>NaN</td>\n",
       "      <td>12.648944</td>\n",
       "      <td>0.897568</td>\n",
       "      <td>0.982419</td>\n",
       "      <td>NaN</td>\n",
       "      <td>55.907576</td>\n",
       "      <td>NaN</td>\n",
       "    </tr>\n",
       "    <tr>\n",
       "      <th>min</th>\n",
       "      <td>892.000000</td>\n",
       "      <td>0.000000</td>\n",
       "      <td>1.000000</td>\n",
       "      <td>NaN</td>\n",
       "      <td>NaN</td>\n",
       "      <td>0.000000</td>\n",
       "      <td>0.000000</td>\n",
       "      <td>0.000000</td>\n",
       "      <td>NaN</td>\n",
       "      <td>0.000000</td>\n",
       "      <td>NaN</td>\n",
       "    </tr>\n",
       "    <tr>\n",
       "      <th>25%</th>\n",
       "      <td>996.000000</td>\n",
       "      <td>0.000000</td>\n",
       "      <td>1.000000</td>\n",
       "      <td>NaN</td>\n",
       "      <td>NaN</td>\n",
       "      <td>23.000000</td>\n",
       "      <td>0.000000</td>\n",
       "      <td>0.000000</td>\n",
       "      <td>NaN</td>\n",
       "      <td>7.895800</td>\n",
       "      <td>NaN</td>\n",
       "    </tr>\n",
       "    <tr>\n",
       "      <th>50%</th>\n",
       "      <td>1101.000000</td>\n",
       "      <td>0.000000</td>\n",
       "      <td>3.000000</td>\n",
       "      <td>NaN</td>\n",
       "      <td>NaN</td>\n",
       "      <td>27.000000</td>\n",
       "      <td>0.000000</td>\n",
       "      <td>0.000000</td>\n",
       "      <td>NaN</td>\n",
       "      <td>14.454200</td>\n",
       "      <td>NaN</td>\n",
       "    </tr>\n",
       "    <tr>\n",
       "      <th>75%</th>\n",
       "      <td>1205.000000</td>\n",
       "      <td>1.000000</td>\n",
       "      <td>3.000000</td>\n",
       "      <td>NaN</td>\n",
       "      <td>NaN</td>\n",
       "      <td>35.000000</td>\n",
       "      <td>1.000000</td>\n",
       "      <td>0.000000</td>\n",
       "      <td>NaN</td>\n",
       "      <td>31.500000</td>\n",
       "      <td>NaN</td>\n",
       "    </tr>\n",
       "    <tr>\n",
       "      <th>max</th>\n",
       "      <td>1309.000000</td>\n",
       "      <td>1.000000</td>\n",
       "      <td>3.000000</td>\n",
       "      <td>NaN</td>\n",
       "      <td>NaN</td>\n",
       "      <td>76.000000</td>\n",
       "      <td>8.000000</td>\n",
       "      <td>9.000000</td>\n",
       "      <td>NaN</td>\n",
       "      <td>512.329200</td>\n",
       "      <td>NaN</td>\n",
       "    </tr>\n",
       "  </tbody>\n",
       "</table>\n",
       "</div>"
      ],
      "text/plain": [
       "        PassengerId    Survived      Pclass              Name   Sex  \\\n",
       "count    417.000000  417.000000  417.000000               417   417   \n",
       "unique          NaN         NaN         NaN               417     2   \n",
       "top             NaN         NaN         NaN  Kelly, Mr. James  male   \n",
       "freq            NaN         NaN         NaN                 1   265   \n",
       "mean    1100.635492    0.364508    2.263789               NaN   NaN   \n",
       "std      120.923774    0.481870    0.842077               NaN   NaN   \n",
       "min      892.000000    0.000000    1.000000               NaN   NaN   \n",
       "25%      996.000000    0.000000    1.000000               NaN   NaN   \n",
       "50%     1101.000000    0.000000    3.000000               NaN   NaN   \n",
       "75%     1205.000000    1.000000    3.000000               NaN   NaN   \n",
       "max     1309.000000    1.000000    3.000000               NaN   NaN   \n",
       "\n",
       "               Age  Siblings_Spouses  Parents_Childrens    Ticket        Fare  \\\n",
       "count   417.000000        417.000000         417.000000       417  417.000000   \n",
       "unique         NaN               NaN                NaN       362         NaN   \n",
       "top            NaN               NaN                NaN  PC 17608         NaN   \n",
       "freq           NaN               NaN                NaN         5         NaN   \n",
       "mean     29.501199          0.448441           0.393285       NaN   35.627188   \n",
       "std      12.648944          0.897568           0.982419       NaN   55.907576   \n",
       "min       0.000000          0.000000           0.000000       NaN    0.000000   \n",
       "25%      23.000000          0.000000           0.000000       NaN    7.895800   \n",
       "50%      27.000000          0.000000           0.000000       NaN   14.454200   \n",
       "75%      35.000000          1.000000           0.000000       NaN   31.500000   \n",
       "max      76.000000          8.000000           9.000000       NaN  512.329200   \n",
       "\n",
       "       Embarked  \n",
       "count       417  \n",
       "unique        3  \n",
       "top           S  \n",
       "freq        269  \n",
       "mean        NaN  \n",
       "std         NaN  \n",
       "min         NaN  \n",
       "25%         NaN  \n",
       "50%         NaN  \n",
       "75%         NaN  \n",
       "max         NaN  "
      ]
     },
     "execution_count": 291,
     "metadata": {},
     "output_type": "execute_result"
    }
   ],
   "source": [
    "data.describe(include='all')"
   ]
  },
  {
   "cell_type": "markdown",
   "id": "1e21a79e",
   "metadata": {},
   "source": [
    "### Fare column "
   ]
  },
  {
   "cell_type": "code",
   "execution_count": 292,
   "id": "6f0c8e62",
   "metadata": {},
   "outputs": [
    {
     "data": {
      "image/png": "[encoded data removed]",
      "text/plain": [
       "<Figure size 1080x504 with 1 Axes>"
      ]
     },
     "metadata": {},
     "output_type": "display_data"
    }
   ],
   "source": [
    "plt.figure(figsize=(15,7))\n",
    "sns.boxplot(data=data,x='Fare')\n",
    "plt.title('Fare box plot to show outliers')\n",
    "plt.show()"
   ]
  },
  {
   "cell_type": "code",
   "execution_count": 293,
   "id": "c18af670",
   "metadata": {},
   "outputs": [
    {
     "name": "stdout",
     "output_type": "stream",
     "text": [
      "66.9063\n"
     ]
    }
   ],
   "source": [
    "q1=data['Fare'].quantile(0.25)\n",
    "q3=data['Fare'].quantile(0.75)\n",
    "IQR=q3-q1\n",
    "lb=q1-(1.5*IQR)\n",
    "ub=q3+(1.5*IQR)\n",
    "data=data[(data['Fare']>lb) & (data['Fare']<ub)]\n",
    "print(ub)"
   ]
  },
  {
   "cell_type": "code",
   "execution_count": 294,
   "id": "bab226ae",
   "metadata": {},
   "outputs": [
    {
     "data": {
      "image/png": "[encoded data removed]",
      "text/plain": [
       "<Figure size 1080x504 with 1 Axes>"
      ]
     },
     "metadata": {},
     "output_type": "display_data"
    }
   ],
   "source": [
    "plt.figure(figsize=(15,7))\n",
    "sns.boxplot(data=data,x='Fare')\n",
    "plt.show()"
   ]
  },
  {
   "cell_type": "code",
   "execution_count": 295,
   "id": "4b6e1d7c",
   "metadata": {},
   "outputs": [
    {
     "data": {
      "text/plain": [
       "count    362.000000\n",
       "mean      18.261763\n",
       "std       14.368843\n",
       "min        0.000000\n",
       "25%        7.854200\n",
       "50%       13.000000\n",
       "75%       26.000000\n",
       "max       65.000000\n",
       "Name: Fare, dtype: float64"
      ]
     },
     "execution_count": 295,
     "metadata": {},
     "output_type": "execute_result"
    }
   ],
   "source": [
    "data['Fare'].describe()"
   ]
  },
  {
   "cell_type": "markdown",
   "id": "a231c3f0",
   "metadata": {},
   "source": [
    "### Sex column"
   ]
  },
  {
   "cell_type": "code",
   "execution_count": 357,
   "id": "dad73edd",
   "metadata": {},
   "outputs": [
    {
     "data": {
      "image/png": "[encoded data removed]",
      "text/plain": [
       "<Figure size 540x540 with 1 Axes>"
      ]
     },
     "metadata": {},
     "output_type": "display_data"
    }
   ],
   "source": [
    "plt.figure(figsize=(7.5,7.5))\n",
    "counts=data['Sex'].value_counts()\n",
    "e=[0,0.05]\n",
    "counts.plot(kind='pie',explode=e,shadow=True,wedgeprops={'edgecolor':'black'},autopct=\"%1.0f%%\",startangle=90,labels=None)\n",
    "plt.legend(labels=counts.index, loc='upper right')\n",
    "plt.title(\"The porportion of Gender\")\n",
    "plt.show()"
   ]
  },
  {
   "cell_type": "markdown",
   "id": "7c4b2752",
   "metadata": {},
   "source": [
    "There are 34% females and 66% males"
   ]
  },
  {
   "cell_type": "markdown",
   "id": "4231a9b7",
   "metadata": {},
   "source": [
    "### Survived Column"
   ]
  },
  {
   "cell_type": "code",
   "execution_count": 359,
   "id": "295181bc",
   "metadata": {},
   "outputs": [
    {
     "data": {
      "image/png": "[encoded data removed]",
      "text/plain": [
       "<Figure size 576x504 with 1 Axes>"
      ]
     },
     "metadata": {},
     "output_type": "display_data"
    }
   ],
   "source": [
    "plt.figure(figsize=(8,7))\n",
    "sns.countplot(data=data,x='Survived',palette='plasma',hue='Sex')\n",
    "plt.show()"
   ]
  },
  {
   "cell_type": "markdown",
   "id": "b727f408",
   "metadata": {},
   "source": [
    "All Survived are females and their counts 125"
   ]
  },
  {
   "cell_type": "markdown",
   "id": "d68d4608",
   "metadata": {},
   "source": [
    "### Age column "
   ]
  },
  {
   "cell_type": "code",
   "execution_count": 298,
   "id": "17a1f756",
   "metadata": {},
   "outputs": [
    {
     "data": {
      "image/png": "[encoded data removed]",
      "text/plain": [
       "<Figure size 576x360 with 1 Axes>"
      ]
     },
     "metadata": {},
     "output_type": "display_data"
    }
   ],
   "source": [
    "\n",
    "plt.figure(figsize=(8,5))\n",
    "sns.histplot(data=data,x='Age',kde=True,binwidth=5,hue='Survived',multiple='stack')\n",
    "plt.show()\n"
   ]
  },
  {
   "cell_type": "code",
   "execution_count": 361,
   "id": "5b716b5a",
   "metadata": {},
   "outputs": [
    {
     "data": {
      "image/png": "[encoded data removed]",
      "text/plain": [
       "<Figure size 1080x504 with 1 Axes>"
      ]
     },
     "metadata": {},
     "output_type": "display_data"
    }
   ],
   "source": [
    "plt.figure(figsize=(15,7))\n",
    "sns.boxplot(data=data,x='Age',y='Sex')\n",
    "plt.show()\n"
   ]
  },
  {
   "cell_type": "markdown",
   "id": "9c620e87",
   "metadata": {},
   "source": [
    "Females median of ages is 27 and 25% of them have 20 years and 75% have 30 years"
   ]
  },
  {
   "cell_type": "markdown",
   "id": "b5103d60",
   "metadata": {},
   "source": [
    "Males median of ages is 27 and 25% of them have 25 years and 75% have 35 years"
   ]
  },
  {
   "cell_type": "code",
   "execution_count": 300,
   "id": "934cba99",
   "metadata": {},
   "outputs": [],
   "source": [
    "#Bining the age data \n",
    "bins=[0,3,15,35,50,data['Age'].max()]\n",
    "label=['Baby','Children','Young','Elderly',\"Old\"]\n",
    "data['Person']=pd.cut(data['Age'],bins=bins,labels=label,include_lowest=True)"
   ]
  },
  {
   "cell_type": "markdown",
   "id": "c6727120",
   "metadata": {},
   "source": [
    "### Person column "
   ]
  },
  {
   "cell_type": "code",
   "execution_count": 301,
   "id": "80f4d5c0",
   "metadata": {},
   "outputs": [
    {
     "data": {
      "text/html": [
       "<div>\n",
       "<style scoped>\n",
       "    .dataframe tbody tr th:only-of-type {\n",
       "        vertical-align: middle;\n",
       "    }\n",
       "\n",
       "    .dataframe tbody tr th {\n",
       "        vertical-align: top;\n",
       "    }\n",
       "\n",
       "    .dataframe thead th {\n",
       "        text-align: right;\n",
       "    }\n",
       "</style>\n",
       "<table border=\"1\" class=\"dataframe\">\n",
       "  <thead>\n",
       "    <tr style=\"text-align: right;\">\n",
       "      <th></th>\n",
       "      <th>Age</th>\n",
       "      <th>Person</th>\n",
       "    </tr>\n",
       "  </thead>\n",
       "  <tbody>\n",
       "    <tr>\n",
       "      <th>0</th>\n",
       "      <td>34</td>\n",
       "      <td>Young</td>\n",
       "    </tr>\n",
       "    <tr>\n",
       "      <th>1</th>\n",
       "      <td>47</td>\n",
       "      <td>Elderly</td>\n",
       "    </tr>\n",
       "    <tr>\n",
       "      <th>2</th>\n",
       "      <td>62</td>\n",
       "      <td>Old</td>\n",
       "    </tr>\n",
       "    <tr>\n",
       "      <th>3</th>\n",
       "      <td>27</td>\n",
       "      <td>Young</td>\n",
       "    </tr>\n",
       "    <tr>\n",
       "      <th>4</th>\n",
       "      <td>22</td>\n",
       "      <td>Young</td>\n",
       "    </tr>\n",
       "    <tr>\n",
       "      <th>5</th>\n",
       "      <td>14</td>\n",
       "      <td>Children</td>\n",
       "    </tr>\n",
       "    <tr>\n",
       "      <th>6</th>\n",
       "      <td>30</td>\n",
       "      <td>Young</td>\n",
       "    </tr>\n",
       "    <tr>\n",
       "      <th>7</th>\n",
       "      <td>26</td>\n",
       "      <td>Young</td>\n",
       "    </tr>\n",
       "    <tr>\n",
       "      <th>8</th>\n",
       "      <td>18</td>\n",
       "      <td>Young</td>\n",
       "    </tr>\n",
       "    <tr>\n",
       "      <th>9</th>\n",
       "      <td>21</td>\n",
       "      <td>Young</td>\n",
       "    </tr>\n",
       "  </tbody>\n",
       "</table>\n",
       "</div>"
      ],
      "text/plain": [
       "   Age    Person\n",
       "0   34     Young\n",
       "1   47   Elderly\n",
       "2   62       Old\n",
       "3   27     Young\n",
       "4   22     Young\n",
       "5   14  Children\n",
       "6   30     Young\n",
       "7   26     Young\n",
       "8   18     Young\n",
       "9   21     Young"
      ]
     },
     "execution_count": 301,
     "metadata": {},
     "output_type": "execute_result"
    }
   ],
   "source": [
    "data[['Age','Person']].head(10)"
   ]
  },
  {
   "cell_type": "code",
   "execution_count": 362,
   "id": "77e8db7f",
   "metadata": {},
   "outputs": [
    {
     "data": {
      "image/png": "[encoded data removed]",
      "text/plain": [
       "<Figure size 576x360 with 1 Axes>"
      ]
     },
     "metadata": {},
     "output_type": "display_data"
    }
   ],
   "source": [
    "plt.figure(figsize=(8,5))\n",
    "sns.set_style('whitegrid')\n",
    "sns.countplot(data=data,x='Person',hue='Survived')\n",
    "plt.show()"
   ]
  },
  {
   "cell_type": "markdown",
   "id": "40de476d",
   "metadata": {},
   "source": [
    "Unsurvived more than survived in all age stages exept babies"
   ]
  },
  {
   "cell_type": "code",
   "execution_count": 303,
   "id": "21f8accd",
   "metadata": {},
   "outputs": [
    {
     "data": {
      "text/plain": [
       "Young       261\n",
       "Elderly      57\n",
       "Children     18\n",
       "Old          15\n",
       "Baby         11\n",
       "Name: Person, dtype: int64"
      ]
     },
     "execution_count": 303,
     "metadata": {},
     "output_type": "execute_result"
    }
   ],
   "source": [
    "data['Person'].value_counts()"
   ]
  },
  {
   "cell_type": "code",
   "execution_count": 304,
   "id": "28b1eb8f",
   "metadata": {},
   "outputs": [],
   "source": [
    "survy=data[(data['Survived']==1) & (data['Sex'].isin(['female']))]"
   ]
  },
  {
   "cell_type": "code",
   "execution_count": 305,
   "id": "2d97fb00",
   "metadata": {},
   "outputs": [
    {
     "data": {
      "text/html": [
       "<div>\n",
       "<style scoped>\n",
       "    .dataframe tbody tr th:only-of-type {\n",
       "        vertical-align: middle;\n",
       "    }\n",
       "\n",
       "    .dataframe tbody tr th {\n",
       "        vertical-align: top;\n",
       "    }\n",
       "\n",
       "    .dataframe thead th {\n",
       "        text-align: right;\n",
       "    }\n",
       "</style>\n",
       "<table border=\"1\" class=\"dataframe\">\n",
       "  <thead>\n",
       "    <tr style=\"text-align: right;\">\n",
       "      <th>Person</th>\n",
       "      <th>Baby</th>\n",
       "      <th>Children</th>\n",
       "      <th>Young</th>\n",
       "      <th>Elderly</th>\n",
       "      <th>Old</th>\n",
       "    </tr>\n",
       "    <tr>\n",
       "      <th>Sex</th>\n",
       "      <th></th>\n",
       "      <th></th>\n",
       "      <th></th>\n",
       "      <th></th>\n",
       "      <th></th>\n",
       "    </tr>\n",
       "  </thead>\n",
       "  <tbody>\n",
       "    <tr>\n",
       "      <th>female</th>\n",
       "      <td>7</td>\n",
       "      <td>6</td>\n",
       "      <td>86</td>\n",
       "      <td>17</td>\n",
       "      <td>7</td>\n",
       "    </tr>\n",
       "  </tbody>\n",
       "</table>\n",
       "</div>"
      ],
      "text/plain": [
       "Person  Baby  Children  Young  Elderly  Old\n",
       "Sex                                        \n",
       "female     7         6     86       17    7"
      ]
     },
     "execution_count": 305,
     "metadata": {},
     "output_type": "execute_result"
    }
   ],
   "source": [
    "person_counts=pd.crosstab(survy['Sex'],survy['Person'],values=survy['Survived'],aggfunc='count')\n",
    "person_counts.head()"
   ]
  },
  {
   "cell_type": "code",
   "execution_count": 306,
   "id": "df58a500",
   "metadata": {},
   "outputs": [
    {
     "data": {
      "image/png": "[encoded data removed]",
      "text/plain": [
       "<Figure size 576x360 with 1 Axes>"
      ]
     },
     "metadata": {},
     "output_type": "display_data"
    }
   ],
   "source": [
    "person_counts.plot(kind='bar',edgecolor='black',figsize=(8,5))\n",
    "plt.title('Counts of Survived females for each person category')\n",
    "plt.xlabel('')\n",
    "plt.ylabel('Counts')\n",
    "plt.xticks(rotation=None)\n",
    "plt.show()"
   ]
  },
  {
   "cell_type": "code",
   "execution_count": 307,
   "id": "ade9bcb9",
   "metadata": {},
   "outputs": [
    {
     "data": {
      "image/png": "[encoded data removed]",
      "text/plain": [
       "<Figure size 576x360 with 1 Axes>"
      ]
     },
     "metadata": {},
     "output_type": "display_data"
    }
   ],
   "source": [
    "\n",
    "spiling_num=data[(data['Siblings_Spouses']>=1)]\n",
    "spiling_num.groupby('Person')[['Siblings_Spouses']].count().plot(kind='bar',figsize=(8,5),color='r',edgecolor='black')\n",
    "plt.title(\"Number of siblings for each person\")\n",
    "plt.ylabel(\"Count\")\n",
    "plt.show()"
   ]
  },
  {
   "cell_type": "code",
   "execution_count": 308,
   "id": "424c63bd",
   "metadata": {},
   "outputs": [
    {
     "data": {
      "image/png": "[encoded data removed]",
      "text/plain": [
       "<Figure size 576x360 with 1 Axes>"
      ]
     },
     "metadata": {},
     "output_type": "display_data"
    }
   ],
   "source": [
    "parch_num=data[(data['Parents_Childrens']>=1)]\n",
    "parch_num.groupby('Person')[['Parents_Childrens']].count().plot(kind='bar',figsize=(8,5),color='y',edgecolor='black')\n",
    "plt.title(\"Number of Parents or Childrens for each person\")\n",
    "plt.ylabel(\"Count\")\n",
    "plt.show()"
   ]
  },
  {
   "cell_type": "markdown",
   "id": "0acccdf4",
   "metadata": {},
   "source": [
    "### Embark column"
   ]
  },
  {
   "cell_type": "code",
   "execution_count": 309,
   "id": "fe4a19f6",
   "metadata": {},
   "outputs": [],
   "source": [
    "\n",
    "data['Embarked']=data['Embarked'].str.replace('Q','Queenstown')\n",
    "data['Embarked']=data['Embarked']=data['Embarked'].str.replace('C','Cherbourg')\n",
    "data['Embarked']=data['Embarked'].str.replace('S','Southampton')"
   ]
  },
  {
   "cell_type": "code",
   "execution_count": 310,
   "id": "2d2f21c7",
   "metadata": {},
   "outputs": [
    {
     "data": {
      "text/plain": [
       "Southampton    246\n",
       "Cherbourg       71\n",
       "Queenstown      45\n",
       "Name: Embarked, dtype: int64"
      ]
     },
     "execution_count": 310,
     "metadata": {},
     "output_type": "execute_result"
    }
   ],
   "source": [
    "data['Embarked'].value_counts()"
   ]
  },
  {
   "cell_type": "code",
   "execution_count": 311,
   "id": "f9fc1a6b",
   "metadata": {},
   "outputs": [
    {
     "data": {
      "image/png": "[encoded data removed]",
      "text/plain": [
       "<Figure size 576x360 with 1 Axes>"
      ]
     },
     "metadata": {},
     "output_type": "display_data"
    },
    {
     "name": "stdout",
     "output_type": "stream",
     "text": [
      "\n"
     ]
    }
   ],
   "source": [
    "plt.figure(figsize=(8,5))\n",
    "sns.countplot(data=data,x='Embarked',order=['Queenstown','Cherbourg','Southampton'],hue='Pclass',palette='plasma')\n",
    "plt.title('Counts of Embarked for each class')\n",
    "plt.show()\n",
    "print()"
   ]
  },
  {
   "cell_type": "code",
   "execution_count": 312,
   "id": "e7ef7e5c",
   "metadata": {},
   "outputs": [
    {
     "data": {
      "image/png": "[encoded data removed]",
      "text/plain": [
       "<Figure size 432x288 with 1 Axes>"
      ]
     },
     "metadata": {},
     "output_type": "display_data"
    }
   ],
   "source": [
    "sns.countplot(data=data,x='Embarked',hue='Survived')\n",
    "plt.show()"
   ]
  },
  {
   "cell_type": "markdown",
   "id": "be805cf5",
   "metadata": {},
   "source": [
    "### Pclass column "
   ]
  },
  {
   "cell_type": "code",
   "execution_count": 313,
   "id": "73d6dae3",
   "metadata": {},
   "outputs": [
    {
     "data": {
      "image/png": "[encoded data removed]",
      "text/plain": [
       "<Figure size 504x504 with 1 Axes>"
      ]
     },
     "metadata": {},
     "output_type": "display_data"
    },
    {
     "name": "stdout",
     "output_type": "stream",
     "text": [
      "52% of shipe crewds on class 3\n"
     ]
    }
   ],
   "source": [
    "\n",
    "plt.figure(figsize=(7,7))\n",
    "class_counts=data['Pclass'].value_counts()\n",
    "e=[0,0.04,0.05]\n",
    "class_counts.plot(kind='pie',explode=e,shadow=True,wedgeprops={'edgecolor':'black'},autopct=\"%1.0f%%\",startangle=90,labels=None)\n",
    "plt.legend(labels=class_counts.index, loc='upper right')\n",
    "plt.title(\"Classes porportion\")\n",
    "plt.show()\n",
    "print(\"52% of shipe crewds on class 3\")"
   ]
  },
  {
   "cell_type": "code",
   "execution_count": 314,
   "id": "3ae09ce6",
   "metadata": {},
   "outputs": [],
   "source": [
    "pvt=data.pivot_table(index='Embarked',columns='Pclass',values='Fare',aggfunc=['mean'])"
   ]
  },
  {
   "cell_type": "code",
   "execution_count": 315,
   "id": "a1ca7693",
   "metadata": {},
   "outputs": [
    {
     "data": {
      "image/png": "[encoded data removed]",
      "text/plain": [
       "<Figure size 648x504 with 2 Axes>"
      ]
     },
     "metadata": {},
     "output_type": "display_data"
    }
   ],
   "source": [
    "plt.figure(figsize=(9,7))\n",
    "sns.heatmap(pvt,annot=True,vmin=0,vmax=45)\n",
    "plt.show()"
   ]
  },
  {
   "cell_type": "code",
   "execution_count": 316,
   "id": "a5c17867",
   "metadata": {},
   "outputs": [
    {
     "data": {
      "image/png": "[encoded data removed]",
      "text/plain": [
       "<Figure size 648x504 with 1 Axes>"
      ]
     },
     "metadata": {},
     "output_type": "display_data"
    }
   ],
   "source": [
    "plt.figure(figsize=(9,7))\n",
    "median_Pclass_age=data.groupby('Pclass')['Age'].mean()\n",
    "median_Pclass_age.plot(kind='bar',color='orange',edgecolor='black',width=0.2)\n",
    "plt.xticks(rotation=None)\n",
    "plt.title(\"Mean of Ages in each class\")\n",
    "plt.ylabel(\"Mean of the ages\")\n",
    "plt.show()"
   ]
  },
  {
   "cell_type": "code",
   "execution_count": 317,
   "id": "65de97a7",
   "metadata": {},
   "outputs": [
    {
     "data": {
      "image/png": "[encoded data removed]",
      "text/plain": [
       "<Figure size 648x504 with 1 Axes>"
      ]
     },
     "metadata": {},
     "output_type": "display_data"
    }
   ],
   "source": [
    "plt.figure(figsize=(9,7))\n",
    "median_Pclass_age=data.groupby('Pclass')['Fare'].mean()\n",
    "median_Pclass_age.plot(kind='bar',color='#7eb54e',edgecolor='black')\n",
    "plt.xticks(rotation=None)\n",
    "plt.title(\"Average of fares for each class\")\n",
    "plt.ylabel(\"Average of the fares\")\n",
    "plt.show()"
   ]
  },
  {
   "cell_type": "code",
   "execution_count": 318,
   "id": "8209ef71",
   "metadata": {},
   "outputs": [
    {
     "data": {
      "image/png": "[encoded data removed]",
      "text/plain": [
       "<Figure size 432x288 with 1 Axes>"
      ]
     },
     "metadata": {},
     "output_type": "display_data"
    }
   ],
   "source": [
    "sns.countplot(data=data,x='Pclass',hue='Survived')\n",
    "plt.show()"
   ]
  },
  {
   "cell_type": "markdown",
   "id": "b7a9147b",
   "metadata": {},
   "source": [
    "### Siblings_Spouses column"
   ]
  },
  {
   "cell_type": "code",
   "execution_count": 319,
   "id": "8426b8e9",
   "metadata": {},
   "outputs": [
    {
     "data": {
      "image/png": "[encoded data removed]",
      "text/plain": [
       "<Figure size 432x288 with 1 Axes>"
      ]
     },
     "metadata": {},
     "output_type": "display_data"
    }
   ],
   "source": [
    "sns.countplot(data=data,x='Siblings_Spouses',hue='Survived')\n",
    "plt.show()"
   ]
  },
  {
   "cell_type": "markdown",
   "id": "b0435ce0",
   "metadata": {},
   "source": [
    "### Parents_Childrens column"
   ]
  },
  {
   "cell_type": "code",
   "execution_count": 320,
   "id": "fec9feb8",
   "metadata": {},
   "outputs": [
    {
     "data": {
      "image/png": "[encoded data removed]",
      "text/plain": [
       "<Figure size 432x288 with 1 Axes>"
      ]
     },
     "metadata": {},
     "output_type": "display_data"
    }
   ],
   "source": [
    "sns.countplot(data=data,x='Parents_Childrens',hue='Survived')\n",
    "plt.show()"
   ]
  },
  {
   "cell_type": "code",
   "execution_count": 321,
   "id": "0df65e07",
   "metadata": {},
   "outputs": [
    {
     "data": {
      "text/plain": [
       "0    292\n",
       "1     40\n",
       "2     26\n",
       "4      1\n",
       "6      1\n",
       "5      1\n",
       "3      1\n",
       "Name: Parents_Childrens, dtype: int64"
      ]
     },
     "execution_count": 321,
     "metadata": {},
     "output_type": "execute_result"
    }
   ],
   "source": [
    "data['Parents_Childrens'].value_counts()"
   ]
  },
  {
   "cell_type": "markdown",
   "id": "2aceb3a7",
   "metadata": {},
   "source": [
    "### Ticket column"
   ]
  },
  {
   "cell_type": "code",
   "execution_count": 322,
   "id": "41609459",
   "metadata": {},
   "outputs": [
    {
     "data": {
      "text/plain": [
       "SOTON/O.Q. 3101315    3\n",
       "C.A. 31029            3\n",
       "347077                3\n",
       "220845                3\n",
       "2650                  2\n",
       "C.A. 33112            2\n",
       "2662                  2\n",
       "C.A. 2315             2\n",
       "W./C. 6607            2\n",
       "13236                 2\n",
       "315153                2\n",
       "112378                2\n",
       "A/5. 851              2\n",
       "350405                2\n",
       "F.C.C. 13534          2\n",
       "CA 2144               2\n",
       "CA 31352              2\n",
       "2660                  2\n",
       "29103                 2\n",
       "347072                2\n",
       "Name: Ticket, dtype: int64"
      ]
     },
     "execution_count": 322,
     "metadata": {},
     "output_type": "execute_result"
    }
   ],
   "source": [
    "ticket=data['Ticket'].value_counts()\n",
    "ticket[:20]"
   ]
  },
  {
   "cell_type": "code",
   "execution_count": 323,
   "id": "21c6fffa",
   "metadata": {},
   "outputs": [
    {
     "data": {
      "text/plain": [
       "['SOTON/O.Q. 3101315',\n",
       " 'C.A. 31029',\n",
       " '347077',\n",
       " '220845',\n",
       " '2650',\n",
       " 'C.A. 33112',\n",
       " '2662',\n",
       " 'C.A. 2315',\n",
       " 'W./C. 6607',\n",
       " '13236',\n",
       " '315153',\n",
       " '112378',\n",
       " 'A/5. 851',\n",
       " '350405',\n",
       " 'F.C.C. 13534',\n",
       " 'CA 2144',\n",
       " 'CA 31352',\n",
       " '2660',\n",
       " '29103',\n",
       " '347072',\n",
       " '11778',\n",
       " '230136',\n",
       " '13695',\n",
       " 'C 4001',\n",
       " 'S.O./P.P. 2',\n",
       " '28220',\n",
       " '24065']"
      ]
     },
     "execution_count": 323,
     "metadata": {},
     "output_type": "execute_result"
    }
   ],
   "source": [
    "group=list(ticket[ticket!=1].index)\n",
    "alone=list(ticket[ticket==1].index)\n",
    "group"
   ]
  },
  {
   "cell_type": "code",
   "execution_count": 324,
   "id": "9d29a8cf",
   "metadata": {},
   "outputs": [],
   "source": [
    "data['Group']=data['Ticket'].isin(group)*1\n",
    "data['Alone']=data['Ticket'].isin(alone)*1"
   ]
  },
  {
   "cell_type": "code",
   "execution_count": 325,
   "id": "f62bb535",
   "metadata": {},
   "outputs": [
    {
     "data": {
      "text/html": [
       "<div>\n",
       "<style scoped>\n",
       "    .dataframe tbody tr th:only-of-type {\n",
       "        vertical-align: middle;\n",
       "    }\n",
       "\n",
       "    .dataframe tbody tr th {\n",
       "        vertical-align: top;\n",
       "    }\n",
       "\n",
       "    .dataframe thead th {\n",
       "        text-align: right;\n",
       "    }\n",
       "</style>\n",
       "<table border=\"1\" class=\"dataframe\">\n",
       "  <thead>\n",
       "    <tr style=\"text-align: right;\">\n",
       "      <th></th>\n",
       "      <th>PassengerId</th>\n",
       "      <th>Survived</th>\n",
       "      <th>Pclass</th>\n",
       "      <th>Name</th>\n",
       "      <th>Sex</th>\n",
       "      <th>Age</th>\n",
       "      <th>Siblings_Spouses</th>\n",
       "      <th>Parents_Childrens</th>\n",
       "      <th>Ticket</th>\n",
       "      <th>Fare</th>\n",
       "      <th>Embarked</th>\n",
       "      <th>Person</th>\n",
       "      <th>Group</th>\n",
       "      <th>Alone</th>\n",
       "    </tr>\n",
       "  </thead>\n",
       "  <tbody>\n",
       "    <tr>\n",
       "      <th>0</th>\n",
       "      <td>892</td>\n",
       "      <td>0</td>\n",
       "      <td>3</td>\n",
       "      <td>Kelly, Mr. James</td>\n",
       "      <td>male</td>\n",
       "      <td>34</td>\n",
       "      <td>0</td>\n",
       "      <td>0</td>\n",
       "      <td>330911</td>\n",
       "      <td>7.8292</td>\n",
       "      <td>Queenstown</td>\n",
       "      <td>Young</td>\n",
       "      <td>0</td>\n",
       "      <td>1</td>\n",
       "    </tr>\n",
       "    <tr>\n",
       "      <th>1</th>\n",
       "      <td>893</td>\n",
       "      <td>1</td>\n",
       "      <td>3</td>\n",
       "      <td>Wilkes, Mrs. James (Ellen Needs)</td>\n",
       "      <td>female</td>\n",
       "      <td>47</td>\n",
       "      <td>1</td>\n",
       "      <td>0</td>\n",
       "      <td>363272</td>\n",
       "      <td>7.0000</td>\n",
       "      <td>Southampton</td>\n",
       "      <td>Elderly</td>\n",
       "      <td>0</td>\n",
       "      <td>1</td>\n",
       "    </tr>\n",
       "    <tr>\n",
       "      <th>2</th>\n",
       "      <td>894</td>\n",
       "      <td>0</td>\n",
       "      <td>2</td>\n",
       "      <td>Myles, Mr. Thomas Francis</td>\n",
       "      <td>male</td>\n",
       "      <td>62</td>\n",
       "      <td>0</td>\n",
       "      <td>0</td>\n",
       "      <td>240276</td>\n",
       "      <td>9.6875</td>\n",
       "      <td>Queenstown</td>\n",
       "      <td>Old</td>\n",
       "      <td>0</td>\n",
       "      <td>1</td>\n",
       "    </tr>\n",
       "    <tr>\n",
       "      <th>3</th>\n",
       "      <td>895</td>\n",
       "      <td>0</td>\n",
       "      <td>3</td>\n",
       "      <td>Wirz, Mr. Albert</td>\n",
       "      <td>male</td>\n",
       "      <td>27</td>\n",
       "      <td>0</td>\n",
       "      <td>0</td>\n",
       "      <td>315154</td>\n",
       "      <td>8.6625</td>\n",
       "      <td>Southampton</td>\n",
       "      <td>Young</td>\n",
       "      <td>0</td>\n",
       "      <td>1</td>\n",
       "    </tr>\n",
       "    <tr>\n",
       "      <th>4</th>\n",
       "      <td>896</td>\n",
       "      <td>1</td>\n",
       "      <td>3</td>\n",
       "      <td>Hirvonen, Mrs. Alexander (Helga E Lindqvist)</td>\n",
       "      <td>female</td>\n",
       "      <td>22</td>\n",
       "      <td>1</td>\n",
       "      <td>1</td>\n",
       "      <td>3101298</td>\n",
       "      <td>12.2875</td>\n",
       "      <td>Southampton</td>\n",
       "      <td>Young</td>\n",
       "      <td>0</td>\n",
       "      <td>1</td>\n",
       "    </tr>\n",
       "    <tr>\n",
       "      <th>5</th>\n",
       "      <td>897</td>\n",
       "      <td>0</td>\n",
       "      <td>3</td>\n",
       "      <td>Svensson, Mr. Johan Cervin</td>\n",
       "      <td>male</td>\n",
       "      <td>14</td>\n",
       "      <td>0</td>\n",
       "      <td>0</td>\n",
       "      <td>7538</td>\n",
       "      <td>9.2250</td>\n",
       "      <td>Southampton</td>\n",
       "      <td>Children</td>\n",
       "      <td>0</td>\n",
       "      <td>1</td>\n",
       "    </tr>\n",
       "    <tr>\n",
       "      <th>6</th>\n",
       "      <td>898</td>\n",
       "      <td>1</td>\n",
       "      <td>3</td>\n",
       "      <td>Connolly, Miss. Kate</td>\n",
       "      <td>female</td>\n",
       "      <td>30</td>\n",
       "      <td>0</td>\n",
       "      <td>0</td>\n",
       "      <td>330972</td>\n",
       "      <td>7.6292</td>\n",
       "      <td>Queenstown</td>\n",
       "      <td>Young</td>\n",
       "      <td>0</td>\n",
       "      <td>1</td>\n",
       "    </tr>\n",
       "    <tr>\n",
       "      <th>7</th>\n",
       "      <td>899</td>\n",
       "      <td>0</td>\n",
       "      <td>2</td>\n",
       "      <td>Caldwell, Mr. Albert Francis</td>\n",
       "      <td>male</td>\n",
       "      <td>26</td>\n",
       "      <td>1</td>\n",
       "      <td>1</td>\n",
       "      <td>248738</td>\n",
       "      <td>29.0000</td>\n",
       "      <td>Southampton</td>\n",
       "      <td>Young</td>\n",
       "      <td>0</td>\n",
       "      <td>1</td>\n",
       "    </tr>\n",
       "    <tr>\n",
       "      <th>8</th>\n",
       "      <td>900</td>\n",
       "      <td>1</td>\n",
       "      <td>3</td>\n",
       "      <td>Abrahim, Mrs. Joseph (Sophie Halaut Easu)</td>\n",
       "      <td>female</td>\n",
       "      <td>18</td>\n",
       "      <td>0</td>\n",
       "      <td>0</td>\n",
       "      <td>2657</td>\n",
       "      <td>7.2292</td>\n",
       "      <td>Cherbourg</td>\n",
       "      <td>Young</td>\n",
       "      <td>0</td>\n",
       "      <td>1</td>\n",
       "    </tr>\n",
       "    <tr>\n",
       "      <th>9</th>\n",
       "      <td>901</td>\n",
       "      <td>0</td>\n",
       "      <td>3</td>\n",
       "      <td>Davies, Mr. John Samuel</td>\n",
       "      <td>male</td>\n",
       "      <td>21</td>\n",
       "      <td>2</td>\n",
       "      <td>0</td>\n",
       "      <td>A/4 48871</td>\n",
       "      <td>24.1500</td>\n",
       "      <td>Southampton</td>\n",
       "      <td>Young</td>\n",
       "      <td>0</td>\n",
       "      <td>1</td>\n",
       "    </tr>\n",
       "    <tr>\n",
       "      <th>10</th>\n",
       "      <td>902</td>\n",
       "      <td>0</td>\n",
       "      <td>3</td>\n",
       "      <td>Ilieff, Mr. Ylio</td>\n",
       "      <td>male</td>\n",
       "      <td>27</td>\n",
       "      <td>0</td>\n",
       "      <td>0</td>\n",
       "      <td>349220</td>\n",
       "      <td>7.8958</td>\n",
       "      <td>Southampton</td>\n",
       "      <td>Young</td>\n",
       "      <td>0</td>\n",
       "      <td>1</td>\n",
       "    </tr>\n",
       "    <tr>\n",
       "      <th>11</th>\n",
       "      <td>903</td>\n",
       "      <td>0</td>\n",
       "      <td>1</td>\n",
       "      <td>Jones, Mr. Charles Cresson</td>\n",
       "      <td>male</td>\n",
       "      <td>46</td>\n",
       "      <td>0</td>\n",
       "      <td>0</td>\n",
       "      <td>694</td>\n",
       "      <td>26.0000</td>\n",
       "      <td>Southampton</td>\n",
       "      <td>Elderly</td>\n",
       "      <td>0</td>\n",
       "      <td>1</td>\n",
       "    </tr>\n",
       "    <tr>\n",
       "      <th>13</th>\n",
       "      <td>905</td>\n",
       "      <td>0</td>\n",
       "      <td>2</td>\n",
       "      <td>Howard, Mr. Benjamin</td>\n",
       "      <td>male</td>\n",
       "      <td>63</td>\n",
       "      <td>1</td>\n",
       "      <td>0</td>\n",
       "      <td>24065</td>\n",
       "      <td>26.0000</td>\n",
       "      <td>Southampton</td>\n",
       "      <td>Old</td>\n",
       "      <td>1</td>\n",
       "      <td>0</td>\n",
       "    </tr>\n",
       "    <tr>\n",
       "      <th>14</th>\n",
       "      <td>906</td>\n",
       "      <td>1</td>\n",
       "      <td>1</td>\n",
       "      <td>Chaffee, Mrs. Herbert Fuller (Carrie Constance...</td>\n",
       "      <td>female</td>\n",
       "      <td>47</td>\n",
       "      <td>1</td>\n",
       "      <td>0</td>\n",
       "      <td>W.E.P. 5734</td>\n",
       "      <td>61.1750</td>\n",
       "      <td>Southampton</td>\n",
       "      <td>Elderly</td>\n",
       "      <td>0</td>\n",
       "      <td>1</td>\n",
       "    </tr>\n",
       "    <tr>\n",
       "      <th>15</th>\n",
       "      <td>907</td>\n",
       "      <td>1</td>\n",
       "      <td>2</td>\n",
       "      <td>del Carlo, Mrs. Sebastiano (Argenia Genovesi)</td>\n",
       "      <td>female</td>\n",
       "      <td>24</td>\n",
       "      <td>1</td>\n",
       "      <td>0</td>\n",
       "      <td>SC/PARIS 2167</td>\n",
       "      <td>27.7208</td>\n",
       "      <td>Cherbourg</td>\n",
       "      <td>Young</td>\n",
       "      <td>0</td>\n",
       "      <td>1</td>\n",
       "    </tr>\n",
       "  </tbody>\n",
       "</table>\n",
       "</div>"
      ],
      "text/plain": [
       "    PassengerId  Survived  Pclass  \\\n",
       "0           892         0       3   \n",
       "1           893         1       3   \n",
       "2           894         0       2   \n",
       "3           895         0       3   \n",
       "4           896         1       3   \n",
       "5           897         0       3   \n",
       "6           898         1       3   \n",
       "7           899         0       2   \n",
       "8           900         1       3   \n",
       "9           901         0       3   \n",
       "10          902         0       3   \n",
       "11          903         0       1   \n",
       "13          905         0       2   \n",
       "14          906         1       1   \n",
       "15          907         1       2   \n",
       "\n",
       "                                                 Name     Sex  Age  \\\n",
       "0                                    Kelly, Mr. James    male   34   \n",
       "1                    Wilkes, Mrs. James (Ellen Needs)  female   47   \n",
       "2                           Myles, Mr. Thomas Francis    male   62   \n",
       "3                                    Wirz, Mr. Albert    male   27   \n",
       "4        Hirvonen, Mrs. Alexander (Helga E Lindqvist)  female   22   \n",
       "5                          Svensson, Mr. Johan Cervin    male   14   \n",
       "6                                Connolly, Miss. Kate  female   30   \n",
       "7                        Caldwell, Mr. Albert Francis    male   26   \n",
       "8           Abrahim, Mrs. Joseph (Sophie Halaut Easu)  female   18   \n",
       "9                             Davies, Mr. John Samuel    male   21   \n",
       "10                                   Ilieff, Mr. Ylio    male   27   \n",
       "11                         Jones, Mr. Charles Cresson    male   46   \n",
       "13                               Howard, Mr. Benjamin    male   63   \n",
       "14  Chaffee, Mrs. Herbert Fuller (Carrie Constance...  female   47   \n",
       "15      del Carlo, Mrs. Sebastiano (Argenia Genovesi)  female   24   \n",
       "\n",
       "    Siblings_Spouses  Parents_Childrens         Ticket     Fare     Embarked  \\\n",
       "0                  0                  0         330911   7.8292   Queenstown   \n",
       "1                  1                  0         363272   7.0000  Southampton   \n",
       "2                  0                  0         240276   9.6875   Queenstown   \n",
       "3                  0                  0         315154   8.6625  Southampton   \n",
       "4                  1                  1        3101298  12.2875  Southampton   \n",
       "5                  0                  0           7538   9.2250  Southampton   \n",
       "6                  0                  0         330972   7.6292   Queenstown   \n",
       "7                  1                  1         248738  29.0000  Southampton   \n",
       "8                  0                  0           2657   7.2292    Cherbourg   \n",
       "9                  2                  0      A/4 48871  24.1500  Southampton   \n",
       "10                 0                  0         349220   7.8958  Southampton   \n",
       "11                 0                  0            694  26.0000  Southampton   \n",
       "13                 1                  0          24065  26.0000  Southampton   \n",
       "14                 1                  0    W.E.P. 5734  61.1750  Southampton   \n",
       "15                 1                  0  SC/PARIS 2167  27.7208    Cherbourg   \n",
       "\n",
       "      Person  Group  Alone  \n",
       "0      Young      0      1  \n",
       "1    Elderly      0      1  \n",
       "2        Old      0      1  \n",
       "3      Young      0      1  \n",
       "4      Young      0      1  \n",
       "5   Children      0      1  \n",
       "6      Young      0      1  \n",
       "7      Young      0      1  \n",
       "8      Young      0      1  \n",
       "9      Young      0      1  \n",
       "10     Young      0      1  \n",
       "11   Elderly      0      1  \n",
       "13       Old      1      0  \n",
       "14   Elderly      0      1  \n",
       "15     Young      0      1  "
      ]
     },
     "execution_count": 325,
     "metadata": {},
     "output_type": "execute_result"
    }
   ],
   "source": [
    "data.head(15)"
   ]
  },
  {
   "cell_type": "code",
   "execution_count": 326,
   "id": "54d51a91",
   "metadata": {},
   "outputs": [
    {
     "data": {
      "image/png": "[encoded data removed]",
      "text/plain": [
       "<Figure size 432x288 with 1 Axes>"
      ]
     },
     "metadata": {},
     "output_type": "display_data"
    }
   ],
   "source": [
    "sns.countplot(data=data,x='Group',hue='Survived')\n",
    "plt.show()"
   ]
  },
  {
   "cell_type": "markdown",
   "id": "bd4d5650",
   "metadata": {},
   "source": [
    "## Showing the correlation between columns "
   ]
  },
  {
   "cell_type": "code",
   "execution_count": 327,
   "id": "ba77193b",
   "metadata": {},
   "outputs": [
    {
     "data": {
      "text/html": [
       "<div>\n",
       "<style scoped>\n",
       "    .dataframe tbody tr th:only-of-type {\n",
       "        vertical-align: middle;\n",
       "    }\n",
       "\n",
       "    .dataframe tbody tr th {\n",
       "        vertical-align: top;\n",
       "    }\n",
       "\n",
       "    .dataframe thead th {\n",
       "        text-align: right;\n",
       "    }\n",
       "</style>\n",
       "<table border=\"1\" class=\"dataframe\">\n",
       "  <thead>\n",
       "    <tr style=\"text-align: right;\">\n",
       "      <th></th>\n",
       "      <th>PassengerId</th>\n",
       "      <th>Survived</th>\n",
       "      <th>Pclass</th>\n",
       "      <th>Age</th>\n",
       "      <th>Siblings_Spouses</th>\n",
       "      <th>Parents_Childrens</th>\n",
       "      <th>Fare</th>\n",
       "      <th>Group</th>\n",
       "      <th>Alone</th>\n",
       "    </tr>\n",
       "  </thead>\n",
       "  <tbody>\n",
       "    <tr>\n",
       "      <th>PassengerId</th>\n",
       "      <td>1.000000</td>\n",
       "      <td>-0.022051</td>\n",
       "      <td>-0.006851</td>\n",
       "      <td>-0.051025</td>\n",
       "      <td>-0.013057</td>\n",
       "      <td>0.019418</td>\n",
       "      <td>-0.016794</td>\n",
       "      <td>0.035422</td>\n",
       "      <td>-0.035422</td>\n",
       "    </tr>\n",
       "    <tr>\n",
       "      <th>Survived</th>\n",
       "      <td>-0.022051</td>\n",
       "      <td>1.000000</td>\n",
       "      <td>-0.043951</td>\n",
       "      <td>-0.067559</td>\n",
       "      <td>0.122106</td>\n",
       "      <td>0.202811</td>\n",
       "      <td>0.175613</td>\n",
       "      <td>0.131859</td>\n",
       "      <td>-0.131859</td>\n",
       "    </tr>\n",
       "    <tr>\n",
       "      <th>Pclass</th>\n",
       "      <td>-0.006851</td>\n",
       "      <td>-0.043951</td>\n",
       "      <td>1.000000</td>\n",
       "      <td>-0.394066</td>\n",
       "      <td>0.026585</td>\n",
       "      <td>0.064322</td>\n",
       "      <td>-0.684297</td>\n",
       "      <td>-0.048422</td>\n",
       "      <td>0.048422</td>\n",
       "    </tr>\n",
       "    <tr>\n",
       "      <th>Age</th>\n",
       "      <td>-0.051025</td>\n",
       "      <td>-0.067559</td>\n",
       "      <td>-0.394066</td>\n",
       "      <td>1.000000</td>\n",
       "      <td>-0.131477</td>\n",
       "      <td>-0.140112</td>\n",
       "      <td>0.203131</td>\n",
       "      <td>-0.074422</td>\n",
       "      <td>0.074422</td>\n",
       "    </tr>\n",
       "    <tr>\n",
       "      <th>Siblings_Spouses</th>\n",
       "      <td>-0.013057</td>\n",
       "      <td>0.122106</td>\n",
       "      <td>0.026585</td>\n",
       "      <td>-0.131477</td>\n",
       "      <td>1.000000</td>\n",
       "      <td>0.316820</td>\n",
       "      <td>0.305068</td>\n",
       "      <td>0.357674</td>\n",
       "      <td>-0.357674</td>\n",
       "    </tr>\n",
       "    <tr>\n",
       "      <th>Parents_Childrens</th>\n",
       "      <td>0.019418</td>\n",
       "      <td>0.202811</td>\n",
       "      <td>0.064322</td>\n",
       "      <td>-0.140112</td>\n",
       "      <td>0.316820</td>\n",
       "      <td>1.000000</td>\n",
       "      <td>0.303009</td>\n",
       "      <td>0.412629</td>\n",
       "      <td>-0.412629</td>\n",
       "    </tr>\n",
       "    <tr>\n",
       "      <th>Fare</th>\n",
       "      <td>-0.016794</td>\n",
       "      <td>0.175613</td>\n",
       "      <td>-0.684297</td>\n",
       "      <td>0.203131</td>\n",
       "      <td>0.305068</td>\n",
       "      <td>0.303009</td>\n",
       "      <td>1.000000</td>\n",
       "      <td>0.381226</td>\n",
       "      <td>-0.381226</td>\n",
       "    </tr>\n",
       "    <tr>\n",
       "      <th>Group</th>\n",
       "      <td>0.035422</td>\n",
       "      <td>0.131859</td>\n",
       "      <td>-0.048422</td>\n",
       "      <td>-0.074422</td>\n",
       "      <td>0.357674</td>\n",
       "      <td>0.412629</td>\n",
       "      <td>0.381226</td>\n",
       "      <td>1.000000</td>\n",
       "      <td>-1.000000</td>\n",
       "    </tr>\n",
       "    <tr>\n",
       "      <th>Alone</th>\n",
       "      <td>-0.035422</td>\n",
       "      <td>-0.131859</td>\n",
       "      <td>0.048422</td>\n",
       "      <td>0.074422</td>\n",
       "      <td>-0.357674</td>\n",
       "      <td>-0.412629</td>\n",
       "      <td>-0.381226</td>\n",
       "      <td>-1.000000</td>\n",
       "      <td>1.000000</td>\n",
       "    </tr>\n",
       "  </tbody>\n",
       "</table>\n",
       "</div>"
      ],
      "text/plain": [
       "                   PassengerId  Survived    Pclass       Age  \\\n",
       "PassengerId           1.000000 -0.022051 -0.006851 -0.051025   \n",
       "Survived             -0.022051  1.000000 -0.043951 -0.067559   \n",
       "Pclass               -0.006851 -0.043951  1.000000 -0.394066   \n",
       "Age                  -0.051025 -0.067559 -0.394066  1.000000   \n",
       "Siblings_Spouses     -0.013057  0.122106  0.026585 -0.131477   \n",
       "Parents_Childrens     0.019418  0.202811  0.064322 -0.140112   \n",
       "Fare                 -0.016794  0.175613 -0.684297  0.203131   \n",
       "Group                 0.035422  0.131859 -0.048422 -0.074422   \n",
       "Alone                -0.035422 -0.131859  0.048422  0.074422   \n",
       "\n",
       "                   Siblings_Spouses  Parents_Childrens      Fare     Group  \\\n",
       "PassengerId               -0.013057           0.019418 -0.016794  0.035422   \n",
       "Survived                   0.122106           0.202811  0.175613  0.131859   \n",
       "Pclass                     0.026585           0.064322 -0.684297 -0.048422   \n",
       "Age                       -0.131477          -0.140112  0.203131 -0.074422   \n",
       "Siblings_Spouses           1.000000           0.316820  0.305068  0.357674   \n",
       "Parents_Childrens          0.316820           1.000000  0.303009  0.412629   \n",
       "Fare                       0.305068           0.303009  1.000000  0.381226   \n",
       "Group                      0.357674           0.412629  0.381226  1.000000   \n",
       "Alone                     -0.357674          -0.412629 -0.381226 -1.000000   \n",
       "\n",
       "                      Alone  \n",
       "PassengerId       -0.035422  \n",
       "Survived          -0.131859  \n",
       "Pclass             0.048422  \n",
       "Age                0.074422  \n",
       "Siblings_Spouses  -0.357674  \n",
       "Parents_Childrens -0.412629  \n",
       "Fare              -0.381226  \n",
       "Group             -1.000000  \n",
       "Alone              1.000000  "
      ]
     },
     "execution_count": 327,
     "metadata": {},
     "output_type": "execute_result"
    }
   ],
   "source": [
    "data.corr()"
   ]
  },
  {
   "cell_type": "code",
   "execution_count": 328,
   "id": "67fa154c",
   "metadata": {},
   "outputs": [
    {
     "data": {
      "image/png": "[encoded data removed]",
      "text/plain": [
       "<Figure size 936x720 with 2 Axes>"
      ]
     },
     "metadata": {},
     "output_type": "display_data"
    }
   ],
   "source": [
    "plt.figure(figsize=(13,10))\n",
    "sns.heatmap(data.corr(),annot=True,vmax=1,vmin=-1,cmap=\"crest\")\n",
    "plt.show()"
   ]
  },
  {
   "cell_type": "markdown",
   "id": "c12fccd4",
   "metadata": {},
   "source": [
    "# Data preprocessing"
   ]
  },
  {
   "cell_type": "code",
   "execution_count": 329,
   "id": "be29a87f",
   "metadata": {},
   "outputs": [],
   "source": [
    "\n",
    "y=pd.DataFrame(data,columns=['Survived'])"
   ]
  },
  {
   "cell_type": "code",
   "execution_count": 330,
   "id": "bcaaf86e",
   "metadata": {},
   "outputs": [],
   "source": [
    "final_data=data.drop(['PassengerId','Name','Siblings_Spouses','Parents_Childrens','Ticket','Person','Survived'],axis=1)"
   ]
  },
  {
   "cell_type": "code",
   "execution_count": 331,
   "id": "05e9282f",
   "metadata": {},
   "outputs": [],
   "source": [
    "x=pd.get_dummies(data=final_data,columns=['Sex','Pclass','Embarked'], drop_first=True)"
   ]
  },
  {
   "cell_type": "code",
   "execution_count": 332,
   "id": "16b4e7dd",
   "metadata": {},
   "outputs": [
    {
     "data": {
      "text/html": [
       "<div>\n",
       "<style scoped>\n",
       "    .dataframe tbody tr th:only-of-type {\n",
       "        vertical-align: middle;\n",
       "    }\n",
       "\n",
       "    .dataframe tbody tr th {\n",
       "        vertical-align: top;\n",
       "    }\n",
       "\n",
       "    .dataframe thead th {\n",
       "        text-align: right;\n",
       "    }\n",
       "</style>\n",
       "<table border=\"1\" class=\"dataframe\">\n",
       "  <thead>\n",
       "    <tr style=\"text-align: right;\">\n",
       "      <th></th>\n",
       "      <th>Survived</th>\n",
       "    </tr>\n",
       "  </thead>\n",
       "  <tbody>\n",
       "    <tr>\n",
       "      <th>0</th>\n",
       "      <td>0</td>\n",
       "    </tr>\n",
       "    <tr>\n",
       "      <th>1</th>\n",
       "      <td>1</td>\n",
       "    </tr>\n",
       "    <tr>\n",
       "      <th>2</th>\n",
       "      <td>0</td>\n",
       "    </tr>\n",
       "    <tr>\n",
       "      <th>3</th>\n",
       "      <td>0</td>\n",
       "    </tr>\n",
       "    <tr>\n",
       "      <th>4</th>\n",
       "      <td>1</td>\n",
       "    </tr>\n",
       "  </tbody>\n",
       "</table>\n",
       "</div>"
      ],
      "text/plain": [
       "   Survived\n",
       "0         0\n",
       "1         1\n",
       "2         0\n",
       "3         0\n",
       "4         1"
      ]
     },
     "execution_count": 332,
     "metadata": {},
     "output_type": "execute_result"
    }
   ],
   "source": [
    "\n",
    "y.head()"
   ]
  },
  {
   "cell_type": "code",
   "execution_count": 333,
   "id": "a62c63c2",
   "metadata": {},
   "outputs": [
    {
     "data": {
      "text/html": [
       "<div>\n",
       "<style scoped>\n",
       "    .dataframe tbody tr th:only-of-type {\n",
       "        vertical-align: middle;\n",
       "    }\n",
       "\n",
       "    .dataframe tbody tr th {\n",
       "        vertical-align: top;\n",
       "    }\n",
       "\n",
       "    .dataframe thead th {\n",
       "        text-align: right;\n",
       "    }\n",
       "</style>\n",
       "<table border=\"1\" class=\"dataframe\">\n",
       "  <thead>\n",
       "    <tr style=\"text-align: right;\">\n",
       "      <th></th>\n",
       "      <th>Age</th>\n",
       "      <th>Fare</th>\n",
       "      <th>Group</th>\n",
       "      <th>Alone</th>\n",
       "      <th>Sex_male</th>\n",
       "      <th>Pclass_2</th>\n",
       "      <th>Pclass_3</th>\n",
       "      <th>Embarked_Queenstown</th>\n",
       "      <th>Embarked_Southampton</th>\n",
       "    </tr>\n",
       "  </thead>\n",
       "  <tbody>\n",
       "    <tr>\n",
       "      <th>0</th>\n",
       "      <td>34</td>\n",
       "      <td>7.8292</td>\n",
       "      <td>0</td>\n",
       "      <td>1</td>\n",
       "      <td>1</td>\n",
       "      <td>0</td>\n",
       "      <td>1</td>\n",
       "      <td>1</td>\n",
       "      <td>0</td>\n",
       "    </tr>\n",
       "    <tr>\n",
       "      <th>1</th>\n",
       "      <td>47</td>\n",
       "      <td>7.0000</td>\n",
       "      <td>0</td>\n",
       "      <td>1</td>\n",
       "      <td>0</td>\n",
       "      <td>0</td>\n",
       "      <td>1</td>\n",
       "      <td>0</td>\n",
       "      <td>1</td>\n",
       "    </tr>\n",
       "    <tr>\n",
       "      <th>2</th>\n",
       "      <td>62</td>\n",
       "      <td>9.6875</td>\n",
       "      <td>0</td>\n",
       "      <td>1</td>\n",
       "      <td>1</td>\n",
       "      <td>1</td>\n",
       "      <td>0</td>\n",
       "      <td>1</td>\n",
       "      <td>0</td>\n",
       "    </tr>\n",
       "    <tr>\n",
       "      <th>3</th>\n",
       "      <td>27</td>\n",
       "      <td>8.6625</td>\n",
       "      <td>0</td>\n",
       "      <td>1</td>\n",
       "      <td>1</td>\n",
       "      <td>0</td>\n",
       "      <td>1</td>\n",
       "      <td>0</td>\n",
       "      <td>1</td>\n",
       "    </tr>\n",
       "    <tr>\n",
       "      <th>4</th>\n",
       "      <td>22</td>\n",
       "      <td>12.2875</td>\n",
       "      <td>0</td>\n",
       "      <td>1</td>\n",
       "      <td>0</td>\n",
       "      <td>0</td>\n",
       "      <td>1</td>\n",
       "      <td>0</td>\n",
       "      <td>1</td>\n",
       "    </tr>\n",
       "  </tbody>\n",
       "</table>\n",
       "</div>"
      ],
      "text/plain": [
       "   Age     Fare  Group  Alone  Sex_male  Pclass_2  Pclass_3  \\\n",
       "0   34   7.8292      0      1         1         0         1   \n",
       "1   47   7.0000      0      1         0         0         1   \n",
       "2   62   9.6875      0      1         1         1         0   \n",
       "3   27   8.6625      0      1         1         0         1   \n",
       "4   22  12.2875      0      1         0         0         1   \n",
       "\n",
       "   Embarked_Queenstown  Embarked_Southampton  \n",
       "0                    1                     0  \n",
       "1                    0                     1  \n",
       "2                    1                     0  \n",
       "3                    0                     1  \n",
       "4                    0                     1  "
      ]
     },
     "execution_count": 333,
     "metadata": {},
     "output_type": "execute_result"
    }
   ],
   "source": [
    "x.head()"
   ]
  },
  {
   "cell_type": "code",
   "execution_count": 334,
   "id": "6dfe376b",
   "metadata": {},
   "outputs": [],
   "source": [
    "x_train,x_test,y_train,y_test=train_test_split(x,y,test_size=0.3)"
   ]
  },
  {
   "cell_type": "code",
   "execution_count": 335,
   "id": "cd914600",
   "metadata": {},
   "outputs": [
    {
     "data": {
      "text/plain": [
       "(253, 9)"
      ]
     },
     "execution_count": 335,
     "metadata": {},
     "output_type": "execute_result"
    }
   ],
   "source": [
    "x_train.shape"
   ]
  },
  {
   "cell_type": "code",
   "execution_count": 336,
   "id": "d55a0609",
   "metadata": {},
   "outputs": [
    {
     "data": {
      "text/plain": [
       "(109, 9)"
      ]
     },
     "execution_count": 336,
     "metadata": {},
     "output_type": "execute_result"
    }
   ],
   "source": [
    "x_test.shape"
   ]
  },
  {
   "cell_type": "markdown",
   "id": "38cbdc67",
   "metadata": {},
   "source": [
    "# Training the model "
   ]
  },
  {
   "cell_type": "code",
   "execution_count": 337,
   "id": "405cde67",
   "metadata": {},
   "outputs": [],
   "source": [
    "lr=LogisticRegression()"
   ]
  },
  {
   "cell_type": "code",
   "execution_count": 338,
   "id": "76d6bfa0",
   "metadata": {},
   "outputs": [
    {
     "data": {
      "text/plain": [
       "LogisticRegression()"
      ]
     },
     "execution_count": 338,
     "metadata": {},
     "output_type": "execute_result"
    }
   ],
   "source": [
    "\n",
    "lr.fit(x_train,y_train)"
   ]
  },
  {
   "cell_type": "code",
   "execution_count": 339,
   "id": "adf79c2c",
   "metadata": {},
   "outputs": [],
   "source": [
    "y_pred=lr.predict(x_train)"
   ]
  },
  {
   "cell_type": "markdown",
   "id": "9640f27d",
   "metadata": {},
   "source": [
    "# Testing the model"
   ]
  },
  {
   "cell_type": "code",
   "execution_count": 346,
   "id": "e5f8a904",
   "metadata": {},
   "outputs": [],
   "source": [
    "y_pred=lr.predict(x_test)"
   ]
  },
  {
   "cell_type": "code",
   "execution_count": 348,
   "id": "755b4e44",
   "metadata": {},
   "outputs": [
    {
     "data": {
      "text/plain": [
       "1.0"
      ]
     },
     "execution_count": 348,
     "metadata": {},
     "output_type": "execute_result"
    }
   ],
   "source": [
    "accuracy_score(y_test,y_pred)"
   ]
  },
  {
   "cell_type": "code",
   "execution_count": 353,
   "id": "5fc75279",
   "metadata": {},
   "outputs": [
    {
     "data": {
      "image/png": "[encoded data removed]",
      "text/plain": [
       "<Figure size 432x288 with 2 Axes>"
      ]
     },
     "metadata": {},
     "output_type": "display_data"
    }
   ],
   "source": [
    "\n",
    "confusion_matrix=metrics.confusion_matrix(y_test,y_pred)\n",
    "cm_display=metrics.ConfusionMatrixDisplay(confusion_matrix=confusion_matrix,display_labels=[True,False])\n",
    "cm_display.plot()\n",
    "plt.grid(None)\n",
    "plt.show()"
   ]
  },
  {
   "cell_type": "code",
   "execution_count": 355,
   "id": "ff31dd0d",
   "metadata": {},
   "outputs": [
    {
     "name": "stdout",
     "output_type": "stream",
     "text": [
      "The classification report :\n",
      "              precision    recall  f1-score   support\n",
      "\n",
      "     class 1       1.00      1.00      1.00        61\n",
      "     class 0       1.00      1.00      1.00        48\n",
      "\n",
      "    accuracy                           1.00       109\n",
      "   macro avg       1.00      1.00      1.00       109\n",
      "weighted avg       1.00      1.00      1.00       109\n",
      "\n"
     ]
    }
   ],
   "source": [
    "print(\"The classification report :\")\n",
    "target_names = ['class 1','class 0']\n",
    "print(classification_report(y_test, y_pred,target_names=target_names))"
   ]
  },
  {
   "cell_type": "code",
   "execution_count": null,
   "id": "0b567db6",
   "metadata": {},
   "outputs": [],
   "source": []
  }
 ],
 "metadata": {
  "kernelspec": {
   "display_name": "Python 3 (ipykernel)",
   "language": "python",
   "name": "python3"
  },
  "language_info": {
   "codemirror_mode": {
    "name": "ipython",
    "version": 3
   },
   "file_extension": ".py",
   "mimetype": "text/x-python",
   "name": "python",
   "nbconvert_exporter": "python",
   "pygments_lexer": "ipython3",
   "version": "3.9.7"
  }
 },
 "nbformat": 4,
 "nbformat_minor": 5
}
